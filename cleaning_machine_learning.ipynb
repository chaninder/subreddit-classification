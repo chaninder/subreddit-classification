{
 "cells": [
  {
   "cell_type": "code",
   "execution_count": 7,
   "id": "ae8e116d",
   "metadata": {
    "scrolled": true
   },
   "outputs": [
    {
     "name": "stdout",
     "output_type": "stream",
     "text": [
      "Defaulting to user installation because normal site-packages is not writeable\n",
      "Requirement already satisfied: gensim in /home/lbethamcharla/.local/lib/python3.9/site-packages (4.2.0)\n",
      "Requirement already satisfied: scipy>=0.18.1 in /opt/conda/lib/python3.9/site-packages (from gensim) (1.7.0)\n",
      "Requirement already satisfied: numpy>=1.17.0 in /opt/conda/lib/python3.9/site-packages (from gensim) (1.21.1)\n",
      "Requirement already satisfied: smart-open>=1.8.1 in /home/lbethamcharla/.local/lib/python3.9/site-packages (from gensim) (6.2.0)\n",
      "Note: you may need to restart the kernel to use updated packages.\n"
     ]
    }
   ],
   "source": [
    "pip install gensim"
   ]
  },
  {
   "cell_type": "code",
   "execution_count": 25,
   "id": "125e014c",
   "metadata": {},
   "outputs": [],
   "source": [
    "import pandas as pd\n",
    "import csv\n",
    "import numpy as np\n",
    "import matplotlib.pyplot as plt\n",
    "import nltk\n",
    "import time\n",
    "import string\n",
    "from collections import defaultdict\n",
    "from collections import Counter\n",
    "\n",
    "import re\n",
    "import gensim\n",
    "from gensim.parsing.preprocessing import STOPWORDS\n",
    "\n",
    "# sklearn\n",
    "from sklearn.linear_model import LogisticRegression\n",
    "from sklearn import svm\n",
    "from sklearn.svm import SVC\n",
    "from sklearn.svm import LinearSVC\n",
    "from sklearn.gaussian_process import GaussianProcessClassifier\n",
    "from sklearn.gaussian_process.kernels import RBF\n",
    "from sklearn.naive_bayes import GaussianNB\n",
    "import matplotlib.pyplot as plt"
   ]
  },
  {
   "cell_type": "code",
   "execution_count": 2,
   "id": "8b3f4d22",
   "metadata": {},
   "outputs": [
    {
     "name": "stdout",
     "output_type": "stream",
     "text": [
      "Defaulting to user installation because normal site-packages is not writeable\n",
      "Collecting praw\n",
      "  Downloading praw-7.6.1-py3-none-any.whl (188 kB)\n",
      "\u001b[K     |████████████████████████████████| 188 kB 9.7 MB/s eta 0:00:01\n",
      "\u001b[?25hRequirement already satisfied: websocket-client>=0.54.0 in /opt/conda/lib/python3.9/site-packages (from praw) (0.57.0)\n",
      "Collecting update-checker>=0.18\n",
      "  Downloading update_checker-0.18.0-py3-none-any.whl (7.0 kB)\n",
      "Collecting prawcore<3,>=2.1\n",
      "  Downloading prawcore-2.3.0-py3-none-any.whl (16 kB)\n",
      "Requirement already satisfied: requests<3.0,>=2.6.0 in /opt/conda/lib/python3.9/site-packages (from prawcore<3,>=2.1->praw) (2.26.0)\n",
      "Requirement already satisfied: charset-normalizer~=2.0.0 in /opt/conda/lib/python3.9/site-packages (from requests<3.0,>=2.6.0->prawcore<3,>=2.1->praw) (2.0.0)\n",
      "Requirement already satisfied: certifi>=2017.4.17 in /opt/conda/lib/python3.9/site-packages (from requests<3.0,>=2.6.0->prawcore<3,>=2.1->praw) (2022.9.24)\n",
      "Requirement already satisfied: idna<4,>=2.5 in /opt/conda/lib/python3.9/site-packages (from requests<3.0,>=2.6.0->prawcore<3,>=2.1->praw) (3.1)\n",
      "Requirement already satisfied: urllib3<1.27,>=1.21.1 in /opt/conda/lib/python3.9/site-packages (from requests<3.0,>=2.6.0->prawcore<3,>=2.1->praw) (1.26.6)\n",
      "Requirement already satisfied: six in /opt/conda/lib/python3.9/site-packages (from websocket-client>=0.54.0->praw) (1.16.0)\n",
      "Installing collected packages: update-checker, prawcore, praw\n",
      "Successfully installed praw-7.6.1 prawcore-2.3.0 update-checker-0.18.0\n",
      "Note: you may need to restart the kernel to use updated packages.\n"
     ]
    }
   ],
   "source": [
    "pip install praw"
   ]
  },
  {
   "cell_type": "markdown",
   "id": "faeeb15d",
   "metadata": {},
   "source": [
    "# PART 1"
   ]
  },
  {
   "cell_type": "markdown",
   "id": "bb8a5330",
   "metadata": {},
   "source": [
    "### Scraping Reddit"
   ]
  },
  {
   "cell_type": "code",
   "execution_count": 3,
   "id": "946092c2",
   "metadata": {},
   "outputs": [],
   "source": [
    "import praw"
   ]
  },
  {
   "cell_type": "code",
   "execution_count": 338,
   "id": "8bdab5af",
   "metadata": {},
   "outputs": [],
   "source": [
    "# Create scraping agent\n",
    "user_agent = 'scraper_v1'\n",
    "reddit = praw.Reddit(\n",
    "    client_id = 'OMjXUAKux4InvR8McNBxgw',\n",
    "    client_secret = 'i0EWo3zXirfzDmyyueDcTQ16336Nuw',\n",
    "    user_agent = user_agent\n",
    ")"
   ]
  },
  {
   "cell_type": "code",
   "execution_count": 346,
   "id": "86a552a6",
   "metadata": {},
   "outputs": [],
   "source": [
    "# create basic data structures\n",
    "subreddits = ['Jokes', 'entertainment', 'sports', 'aliens']\n",
    "comments_per_subredd = defaultdict(list)\n",
    "#comment_scores = []"
   ]
  },
  {
   "cell_type": "code",
   "execution_count": 348,
   "id": "486dac73",
   "metadata": {
    "scrolled": false
   },
   "outputs": [
    {
     "name": "stdout",
     "output_type": "stream",
     "text": [
      "Currently scraping r/Jokes\n",
      "number of comments scraped: 19192\n",
      "Scraping time: 1542.8148159980774 seconds\n",
      "Currently scraping r/entertainment\n",
      "number of comments scraped: 20445\n",
      "Scraping time: 146.7462968826294 seconds\n",
      "Currently scraping r/sports\n",
      "number of comments scraped: 20301\n",
      "Scraping time: 501.34963488578796 seconds\n",
      "Currently scraping r/aliens\n",
      "number of comments scraped: 20179\n",
      "Scraping time: 744.7554512023926 seconds\n"
     ]
    }
   ],
   "source": [
    "num_comments_to_scrape_per_subreddit = 20000\n",
    "for subredd in subreddits:\n",
    "    \n",
    "    # start timer\n",
    "    start = time.time()\n",
    "    print(f'Currently scraping r/{subredd}')\n",
    "    \n",
    "    \n",
    "    # iterate thru submissions\n",
    "    for submission in reddit.subreddit(subredd).hot(limit=None):\n",
    "        \n",
    "        submission.comments.replace_more(limit=0) # handle MoreComments error\n",
    "        # fetch comments\n",
    "        \n",
    "        comments = submission.comments.list()\n",
    "        comments_per_subredd[subredd].extend([c.body for c in comments]) # append comment text\n",
    "        #comment_scores.extend([c.score for c in comments]) # append comment score\n",
    "        \n",
    "        #if len(comment_scores) != len(comments_per_subredd[subredd]):\n",
    "            #print('ERROR: length mismatch!')\n",
    "            \n",
    "        if len(comments_per_subredd[subredd]) >= num_comments_to_scrape_per_subreddit:\n",
    "            break\n",
    "    \n",
    "    # stop timer\n",
    "    end = time.time()\n",
    "    print(f'number of comments scraped: {len(comments_per_subredd[subredd])}')\n",
    "    print(f'Scraping time: {end-start} seconds')\n",
    "    print()"
   ]
  },
  {
   "cell_type": "markdown",
   "id": "fac4c47a",
   "metadata": {},
   "source": [
    "#### Save data dictionary"
   ]
  },
  {
   "cell_type": "code",
   "execution_count": null,
   "id": "71aa2128",
   "metadata": {},
   "outputs": [],
   "source": [
    "# open file for writing, \"w\" is writing\n",
    "w = csv.writer(open(\"comms.csv\", \"w\"))\n",
    "\n",
    "# loop over dictionary keys and values\n",
    "for key, val in comments_per_subredd.items():\n",
    "\n",
    "    # write every key and value to file\n",
    "    w.writerow([key, val])"
   ]
  },
  {
   "cell_type": "markdown",
   "id": "ef940780",
   "metadata": {},
   "source": [
    "### Data Cleaning"
   ]
  },
  {
   "cell_type": "code",
   "execution_count": 390,
   "id": "2f817a9b",
   "metadata": {},
   "outputs": [
    {
     "data": {
      "text/plain": [
       "dict_keys(['Jokes', 'entertainment', 'sports', 'aliens'])"
      ]
     },
     "execution_count": 390,
     "metadata": {},
     "output_type": "execute_result"
    }
   ],
   "source": [
    "comments_per_subredd.keys()"
   ]
  },
  {
   "cell_type": "code",
   "execution_count": 391,
   "id": "cc88e55f",
   "metadata": {},
   "outputs": [],
   "source": [
    "subreddit = []\n",
    "text = []\n",
    "\n",
    "num_comments_limit = 15000\n",
    "\n",
    "for sub, comments_lst in comments_per_subredd.items():\n",
    "    \n",
    "    text.extend(comments_lst[:num_comments_limit])\n",
    "    for i in range(num_comments_limit):\n",
    "        subreddit.append(sub)"
   ]
  },
  {
   "cell_type": "code",
   "execution_count": 392,
   "id": "51e6eaaf",
   "metadata": {},
   "outputs": [
    {
     "data": {
      "text/html": [
       "<div>\n",
       "<style scoped>\n",
       "    .dataframe tbody tr th:only-of-type {\n",
       "        vertical-align: middle;\n",
       "    }\n",
       "\n",
       "    .dataframe tbody tr th {\n",
       "        vertical-align: top;\n",
       "    }\n",
       "\n",
       "    .dataframe thead th {\n",
       "        text-align: right;\n",
       "    }\n",
       "</style>\n",
       "<table border=\"1\" class=\"dataframe\">\n",
       "  <thead>\n",
       "    <tr style=\"text-align: right;\">\n",
       "      <th></th>\n",
       "      <th>text</th>\n",
       "      <th>subreddit</th>\n",
       "    </tr>\n",
       "  </thead>\n",
       "  <tbody>\n",
       "    <tr>\n",
       "      <th>0</th>\n",
       "      <td>Mod: *At least this joke isn’t a repost*\\n\\nT...</td>\n",
       "      <td>jokes</td>\n",
       "    </tr>\n",
       "    <tr>\n",
       "      <th>1</th>\n",
       "      <td>I'll have the eggs, bacon, sausage, and spam.</td>\n",
       "      <td>jokes</td>\n",
       "    </tr>\n",
       "    <tr>\n",
       "      <th>2</th>\n",
       "      <td>I have a question from reading the rules\\n\\nI ...</td>\n",
       "      <td>jokes</td>\n",
       "    </tr>\n",
       "    <tr>\n",
       "      <th>3</th>\n",
       "      <td>I bought a book online so I could be aware of...</td>\n",
       "      <td>jokes</td>\n",
       "    </tr>\n",
       "    <tr>\n",
       "      <th>4</th>\n",
       "      <td>So first, spam. It’s a great canned meat that ...</td>\n",
       "      <td>jokes</td>\n",
       "    </tr>\n",
       "  </tbody>\n",
       "</table>\n",
       "</div>"
      ],
      "text/plain": [
       "                                                text subreddit\n",
       "0   Mod: *At least this joke isn’t a repost*\\n\\nT...     jokes\n",
       "1      I'll have the eggs, bacon, sausage, and spam.     jokes\n",
       "2  I have a question from reading the rules\\n\\nI ...     jokes\n",
       "3   I bought a book online so I could be aware of...     jokes\n",
       "4  So first, spam. It’s a great canned meat that ...     jokes"
      ]
     },
     "execution_count": 392,
     "metadata": {},
     "output_type": "execute_result"
    }
   ],
   "source": [
    "df = pd.DataFrame()\n",
    "df['text'] = text\n",
    "df['subreddit'] = [word.lower() for word in subreddit]\n",
    "df.head()"
   ]
  },
  {
   "cell_type": "code",
   "execution_count": 393,
   "id": "643df961",
   "metadata": {},
   "outputs": [],
   "source": [
    "# save dataframe for future access\n",
    "compression_opts = dict(method='zip',\n",
    "                        archive_name='comments.csv')  \n",
    "\n",
    "df.to_csv('comments.zip', index=False,\n",
    "          compression=compression_opts) "
   ]
  },
  {
   "cell_type": "markdown",
   "id": "f10b6e95",
   "metadata": {},
   "source": [
    "#### Remove emojis"
   ]
  },
  {
   "cell_type": "code",
   "execution_count": 48,
   "id": "66e21360",
   "metadata": {},
   "outputs": [
    {
     "data": {
      "text/html": [
       "<div>\n",
       "<style scoped>\n",
       "    .dataframe tbody tr th:only-of-type {\n",
       "        vertical-align: middle;\n",
       "    }\n",
       "\n",
       "    .dataframe tbody tr th {\n",
       "        vertical-align: top;\n",
       "    }\n",
       "\n",
       "    .dataframe thead th {\n",
       "        text-align: right;\n",
       "    }\n",
       "</style>\n",
       "<table border=\"1\" class=\"dataframe\">\n",
       "  <thead>\n",
       "    <tr style=\"text-align: right;\">\n",
       "      <th></th>\n",
       "      <th>text</th>\n",
       "      <th>subreddit</th>\n",
       "    </tr>\n",
       "  </thead>\n",
       "  <tbody>\n",
       "    <tr>\n",
       "      <th>0</th>\n",
       "      <td>Mod: *At least this joke isn’t a repost*\\n\\nT...</td>\n",
       "      <td>jokes</td>\n",
       "    </tr>\n",
       "    <tr>\n",
       "      <th>1</th>\n",
       "      <td>I'll have the eggs, bacon, sausage, and spam.</td>\n",
       "      <td>jokes</td>\n",
       "    </tr>\n",
       "    <tr>\n",
       "      <th>2</th>\n",
       "      <td>I have a question from reading the rules\\n\\nI ...</td>\n",
       "      <td>jokes</td>\n",
       "    </tr>\n",
       "    <tr>\n",
       "      <th>3</th>\n",
       "      <td>I bought a book online so I could be aware of...</td>\n",
       "      <td>jokes</td>\n",
       "    </tr>\n",
       "    <tr>\n",
       "      <th>4</th>\n",
       "      <td>So first, spam. It’s a great canned meat that ...</td>\n",
       "      <td>jokes</td>\n",
       "    </tr>\n",
       "  </tbody>\n",
       "</table>\n",
       "</div>"
      ],
      "text/plain": [
       "                                                text subreddit\n",
       "0   Mod: *At least this joke isn’t a repost*\\n\\nT...     jokes\n",
       "1      I'll have the eggs, bacon, sausage, and spam.     jokes\n",
       "2  I have a question from reading the rules\\n\\nI ...     jokes\n",
       "3   I bought a book online so I could be aware of...     jokes\n",
       "4  So first, spam. It’s a great canned meat that ...     jokes"
      ]
     },
     "execution_count": 48,
     "metadata": {},
     "output_type": "execute_result"
    }
   ],
   "source": [
    "df = pd.read_csv('comments.csv')\n",
    "text = df['text']\n",
    "df.head()"
   ]
  },
  {
   "cell_type": "code",
   "execution_count": 5,
   "id": "5874aded",
   "metadata": {},
   "outputs": [],
   "source": [
    "def removeEmojis(data):\n",
    "    emoj = re.compile(\"[\"\n",
    "        u\"\\U0001F600-\\U0001F64F\"  # emoticons\n",
    "        u\"\\U0001F300-\\U0001F5FF\"  # symbols & pictographs\n",
    "        u\"\\U0001F680-\\U0001F6FF\"  # transport & map symbols\n",
    "        u\"\\U0001F1E0-\\U0001F1FF\"  # flags (iOS)\n",
    "        u\"\\U00002500-\\U00002BEF\"  # chinese char\n",
    "        u\"\\U00002702-\\U000027B0\"\n",
    "        u\"\\U00002702-\\U000027B0\"\n",
    "        u\"\\U000024C2-\\U0001F251\"\n",
    "        u\"\\U0001f926-\\U0001f937\"\n",
    "        u\"\\U00010000-\\U0010ffff\"\n",
    "        u\"\\u2640-\\u2642\" \n",
    "        u\"\\u2600-\\u2B55\"\n",
    "        u\"\\u200d\"\n",
    "        u\"\\u23cf\"\n",
    "        u\"\\u23e9\"\n",
    "        u\"\\u231a\"\n",
    "        u\"\\ufe0f\"  # dingbats\n",
    "        u\"\\u3030\"\n",
    "                      \"]+\", re.UNICODE)\n",
    "    return re.sub(emoj, '', data)\n",
    "\n",
    "df['text'] = df['text'].apply(removeEmojis)"
   ]
  },
  {
   "cell_type": "markdown",
   "id": "3b66930d",
   "metadata": {},
   "source": [
    "#### Remove punctuation and convert to lowercase"
   ]
  },
  {
   "cell_type": "code",
   "execution_count": 6,
   "id": "8b57f45b",
   "metadata": {
    "scrolled": false
   },
   "outputs": [],
   "source": [
    "punctuation = set(string.punctuation)\n",
    "def remove_punc_convert_lower(comment):\n",
    "    return ''.join([c for c in comment.lower() if not c in punctuation])\n",
    "\n",
    "df['text'] = df['text'].apply(remove_punc_convert_lower)"
   ]
  },
  {
   "cell_type": "markdown",
   "id": "53ad50da",
   "metadata": {},
   "source": [
    "### EDA"
   ]
  },
  {
   "cell_type": "code",
   "execution_count": 7,
   "id": "a5e4fa2b",
   "metadata": {
    "scrolled": false
   },
   "outputs": [
    {
     "data": {
      "text/plain": [
       "jokes            15000\n",
       "entertainment    15000\n",
       "sports           15000\n",
       "aliens           15000\n",
       "Name: subreddit, dtype: int64"
      ]
     },
     "execution_count": 7,
     "metadata": {},
     "output_type": "execute_result"
    }
   ],
   "source": [
    "df['subreddit'].value_counts()"
   ]
  },
  {
   "cell_type": "code",
   "execution_count": 8,
   "id": "cb9a8920",
   "metadata": {
    "scrolled": true
   },
   "outputs": [
    {
     "data": {
      "text/plain": [
       "text         0\n",
       "subreddit    0\n",
       "dtype: int64"
      ]
     },
     "execution_count": 8,
     "metadata": {},
     "output_type": "execute_result"
    }
   ],
   "source": [
    "df.isna().sum()"
   ]
  },
  {
   "cell_type": "code",
   "execution_count": 28,
   "id": "874db4fe",
   "metadata": {},
   "outputs": [
    {
     "name": "stdout",
     "output_type": "stream",
     "text": [
      "AVERAGE length of comments per subreddit:\n"
     ]
    },
    {
     "data": {
      "text/plain": [
       "<AxesSubplot:title={'center':'AVERAGE length of comments per subreddit'}, xlabel='subreddit'>"
      ]
     },
     "execution_count": 28,
     "metadata": {},
     "output_type": "execute_result"
    },
    {
     "data": {
      "image/png": "[encoded data removed]",
      "text/plain": [
       "<Figure size 432x288 with 1 Axes>"
      ]
     },
     "metadata": {
      "needs_background": "light"
     },
     "output_type": "display_data"
    }
   ],
   "source": [
    "df['text_length'] = df['text'].apply(lambda text: len(text.split()))\n",
    "\n",
    "print('AVERAGE length of comments per subreddit:')\n",
    "df.groupby('subreddit')['text_length'].mean().plot(kind='bar', \n",
    "                                                   title='AVERAGE length of comments per subreddit')"
   ]
  },
  {
   "cell_type": "code",
   "execution_count": 29,
   "id": "aaedba28",
   "metadata": {},
   "outputs": [
    {
     "name": "stdout",
     "output_type": "stream",
     "text": [
      "MEDIAN length of comments per subreddit:\n"
     ]
    },
    {
     "data": {
      "text/plain": [
       "<AxesSubplot:title={'center':'MEDIAN length of comments per subreddit'}, xlabel='subreddit'>"
      ]
     },
     "execution_count": 29,
     "metadata": {},
     "output_type": "execute_result"
    },
    {
     "data": {
      "image/png": "[encoded data removed]",
      "text/plain": [
       "<Figure size 432x288 with 1 Axes>"
      ]
     },
     "metadata": {
      "needs_background": "light"
     },
     "output_type": "display_data"
    }
   ],
   "source": [
    "print('MEDIAN length of comments per subreddit:')\n",
    "df.groupby('subreddit')['text_length'].median().plot(kind='bar',\n",
    "                                                    title='MEDIAN length of comments per subreddit')"
   ]
  },
  {
   "cell_type": "code",
   "execution_count": 11,
   "id": "f4ea9d78",
   "metadata": {},
   "outputs": [],
   "source": [
    "all_stopwords_gensim = STOPWORDS\n",
    "def count_num_stopwords(comment):\n",
    "    \n",
    "    comment = comment.split()\n",
    "    counts = Counter(comment)\n",
    "    \n",
    "    counter = 0\n",
    "    for stop_word in STOPWORDS:\n",
    "        counter += counts[stop_word]\n",
    "    return counter\n",
    "      \n",
    "df['num_stopwords'] = df['text'].apply(count_num_stopwords)"
   ]
  },
  {
   "cell_type": "code",
   "execution_count": 30,
   "id": "0a0ac79c",
   "metadata": {
    "scrolled": false
   },
   "outputs": [
    {
     "name": "stdout",
     "output_type": "stream",
     "text": [
      "AVERAGE number of stopwords in comments by subreddit\n"
     ]
    },
    {
     "data": {
      "text/plain": [
       "<AxesSubplot:title={'center':'AVERAGE number of stopwords in comments by subreddit'}, xlabel='subreddit'>"
      ]
     },
     "execution_count": 30,
     "metadata": {},
     "output_type": "execute_result"
    },
    {
     "data": {
      "image/png": "[encoded data removed]",
      "text/plain": [
       "<Figure size 432x288 with 1 Axes>"
      ]
     },
     "metadata": {
      "needs_background": "light"
     },
     "output_type": "display_data"
    }
   ],
   "source": [
    "print('AVERAGE number of stopwords in comments by subreddit')\n",
    "df.groupby('subreddit')['num_stopwords'].mean().plot(\n",
    "    kind='bar',\n",
    "    title='AVERAGE number of stopwords in comments by subreddit'\n",
    ")"
   ]
  },
  {
   "cell_type": "code",
   "execution_count": 31,
   "id": "f0222481",
   "metadata": {},
   "outputs": [
    {
     "name": "stdout",
     "output_type": "stream",
     "text": [
      "MEDIAN number of stopwords in comments by subreddit\n"
     ]
    },
    {
     "data": {
      "text/plain": [
       "<AxesSubplot:title={'center':'MEDIAN number of stopwords in comments by subreddit'}, xlabel='subreddit'>"
      ]
     },
     "execution_count": 31,
     "metadata": {},
     "output_type": "execute_result"
    },
    {
     "data": {
      "image/png": "[encoded data removed]",
      "text/plain": [
       "<Figure size 432x288 with 1 Axes>"
      ]
     },
     "metadata": {
      "needs_background": "light"
     },
     "output_type": "display_data"
    }
   ],
   "source": [
    "print('MEDIAN number of stopwords in comments by subreddit')\n",
    "df.groupby('subreddit')['num_stopwords'].median().plot(\n",
    "    kind='bar',\n",
    "    title='MEDIAN number of stopwords in comments by subreddit'\n",
    ")"
   ]
  },
  {
   "cell_type": "code",
   "execution_count": 32,
   "id": "0e2de915",
   "metadata": {
    "scrolled": false
   },
   "outputs": [
    {
     "name": "stdout",
     "output_type": "stream",
     "text": [
      "AVERAGE number of unique words in comments by subreddit\n"
     ]
    },
    {
     "data": {
      "text/plain": [
       "<AxesSubplot:title={'center':'AVERAGE number of unique words in comments by subreddit'}, xlabel='subreddit'>"
      ]
     },
     "execution_count": 32,
     "metadata": {},
     "output_type": "execute_result"
    },
    {
     "data": {
      "image/png": "[encoded data removed]",
      "text/plain": [
       "<Figure size 432x288 with 1 Axes>"
      ]
     },
     "metadata": {
      "needs_background": "light"
     },
     "output_type": "display_data"
    }
   ],
   "source": [
    "df['num_unique_words'] = df['text'].apply(lambda text: len(set(text.split())))\n",
    "\n",
    "print('AVERAGE number of unique words in comments by subreddit')\n",
    "df.groupby('subreddit')['num_unique_words'].mean().plot(\n",
    "    kind='bar',\n",
    "    title='AVERAGE number of unique words in comments by subreddit'\n",
    ")"
   ]
  },
  {
   "cell_type": "code",
   "execution_count": 33,
   "id": "bf5deca9",
   "metadata": {},
   "outputs": [
    {
     "name": "stdout",
     "output_type": "stream",
     "text": [
      "MEDIAN number of unique words in comments by subreddit\n"
     ]
    },
    {
     "data": {
      "text/plain": [
       "<AxesSubplot:title={'center':'MEDIAN number of unique words in comments by subreddit'}, xlabel='subreddit'>"
      ]
     },
     "execution_count": 33,
     "metadata": {},
     "output_type": "execute_result"
    },
    {
     "data": {
      "image/png": "[encoded data removed]",
      "text/plain": [
       "<Figure size 432x288 with 1 Axes>"
      ]
     },
     "metadata": {
      "needs_background": "light"
     },
     "output_type": "display_data"
    }
   ],
   "source": [
    "print('MEDIAN number of unique words in comments by subreddit')\n",
    "df.groupby('subreddit')['num_unique_words'].median().plot(\n",
    "    kind='bar',\n",
    "    title='MEDIAN number of unique words in comments by subreddit'\n",
    ")"
   ]
  },
  {
   "cell_type": "code",
   "execution_count": 36,
   "id": "626bea32",
   "metadata": {
    "scrolled": true
   },
   "outputs": [
    {
     "data": {
      "text/plain": [
       "subreddit\n",
       "aliens           [(the, 21117), (to, 13239), (and, 11924), (of,...\n",
       "entertainment    [(the, 14700), (a, 9259), (to, 8975), (and, 82...\n",
       "jokes            [(the, 9388), (a, 6307), (to, 4875), (i, 4550)...\n",
       "sports           [(the, 17320), (to, 9559), (a, 9184), (and, 79...\n",
       "Name: text, dtype: object"
      ]
     },
     "execution_count": 36,
     "metadata": {},
     "output_type": "execute_result"
    }
   ],
   "source": [
    "# explore top 20 most common words per subreddit\n",
    "common_words_per_subreddit = df.groupby(\"subreddit\")[\"text\"].apply(lambda x: Counter(\" \".join(x).split()).most_common())\n",
    "common_words_per_subreddit"
   ]
  },
  {
   "cell_type": "code",
   "execution_count": 38,
   "id": "1959db14",
   "metadata": {},
   "outputs": [
    {
     "data": {
      "text/plain": [
       "[('the', 21117),\n",
       " ('to', 13239),\n",
       " ('and', 11924),\n",
       " ('of', 11029),\n",
       " ('a', 11007),\n",
       " ('i', 9464),\n",
       " ('that', 8562),\n",
       " ('is', 7377),\n",
       " ('it', 7127),\n",
       " ('in', 7017),\n",
       " ('they', 5477),\n",
       " ('you', 5314),\n",
       " ('are', 5117),\n",
       " ('this', 4321),\n",
       " ('we', 3983),\n",
       " ('be', 3932),\n",
       " ('have', 3787),\n",
       " ('for', 3681),\n",
       " ('but', 3505),\n",
       " ('on', 3410)]"
      ]
     },
     "execution_count": 38,
     "metadata": {},
     "output_type": "execute_result"
    }
   ],
   "source": [
    "common_words_per_subreddit['aliens'][:20]"
   ]
  },
  {
   "cell_type": "code",
   "execution_count": 42,
   "id": "0972736a",
   "metadata": {},
   "outputs": [
    {
     "data": {
      "text/plain": [
       "[('the', 17320),\n",
       " ('to', 9559),\n",
       " ('a', 9184),\n",
       " ('and', 7941),\n",
       " ('of', 6604),\n",
       " ('i', 5671),\n",
       " ('in', 5618),\n",
       " ('is', 5363),\n",
       " ('that', 5083),\n",
       " ('it', 4742),\n",
       " ('for', 3953),\n",
       " ('you', 3762),\n",
       " ('they', 3582),\n",
       " ('this', 2838),\n",
       " ('not', 2813),\n",
       " ('but', 2751),\n",
       " ('are', 2643),\n",
       " ('was', 2632),\n",
       " ('be', 2567),\n",
       " ('have', 2475)]"
      ]
     },
     "execution_count": 42,
     "metadata": {},
     "output_type": "execute_result"
    }
   ],
   "source": [
    "common_words_per_subreddit['sports'][:20]"
   ]
  },
  {
   "cell_type": "code",
   "execution_count": 19,
   "id": "5c4dcb65",
   "metadata": {},
   "outputs": [
    {
     "data": {
      "text/plain": [
       "['Jokes', 'entertainment', 'sports', 'aliens']"
      ]
     },
     "execution_count": 19,
     "metadata": {},
     "output_type": "execute_result"
    }
   ],
   "source": [
    "subreddits = ['Jokes', 'entertainment', 'sports', 'aliens']\n",
    "subreddits"
   ]
  },
  {
   "cell_type": "code",
   "execution_count": 20,
   "id": "0fa3276a",
   "metadata": {},
   "outputs": [],
   "source": [
    "# explore common words per subreddit EXCLUDING stopwords\n",
    "subredds = list(df['subreddit'].unique())\n",
    "d = {}\n",
    "\n",
    "for sub in subredds:\n",
    "    d[sub] = [tup for tup in common_words_per_subreddit[sub] if tup[0] not in all_stopwords_gensim]"
   ]
  },
  {
   "cell_type": "code",
   "execution_count": 21,
   "id": "50407403",
   "metadata": {},
   "outputs": [
    {
     "name": "stdout",
     "output_type": "stream",
     "text": [
      "TOP 20 most common words (excluding stopwords) in r/jokes\n",
      "[('joke', 1339), ('like', 885), ('people', 639), ('dont', 601), ('chuck', 539), ('im', 524), ('norris', 496), ('know', 490), ('think', 450), ('thats', 433), ('good', 429), ('time', 421), ('got', 404), ('said', 370), ('man', 363), ('it’s', 308), ('funny', 308), ('way', 293), ('says', 291), ('thought', 288)]\n",
      "/n\n",
      "TOP 20 most common words (excluding stopwords) in r/entertainment\n",
      "[('like', 2327), ('people', 2022), ('it’s', 1249), ('think', 1133), ('movie', 1058), ('good', 757), ('know', 748), ('don’t', 734), ('time', 705), ('i’m', 620), ('way', 559), ('movies', 553), ('dont', 542), ('going', 506), ('said', 506), ('that’s', 503), ('he’s', 493), ('right', 492), ('shit', 482), ('want', 472)]\n",
      "/n\n",
      "TOP 20 most common words (excluding stopwords) in r/sports\n",
      "[('like', 1739), ('people', 1625), ('world', 1392), ('qatar', 1033), ('it’s', 981), ('think', 910), ('team', 910), ('cup', 905), ('game', 903), ('dont', 797), ('good', 755), ('fifa', 754), ('know', 676), ('players', 668), ('time', 657), ('don’t', 639), ('play', 557), ('way', 550), ('going', 547), ('football', 527)]\n",
      "/n\n",
      "TOP 20 most common words (excluding stopwords) in r/aliens\n",
      "[('like', 2895), ('think', 1852), ('people', 1824), ('know', 1561), ('aliens', 1505), ('time', 1121), ('dont', 1102), ('it’s', 972), ('believe', 883), ('years', 881), ('way', 832), ('alien', 828), ('life', 799), ('im', 762), ('maybe', 714), ('want', 711), ('humans', 707), ('earth', 699), ('things', 662), ('don’t', 660)]\n",
      "/n\n"
     ]
    }
   ],
   "source": [
    "for sub in subredds:\n",
    "    print(f'TOP 20 most common words (excluding stopwords) in r/{sub}')\n",
    "    print(d[sub][:20])\n",
    "    print('/n')"
   ]
  },
  {
   "cell_type": "code",
   "execution_count": 22,
   "id": "eabff565",
   "metadata": {},
   "outputs": [],
   "source": [
    "# number of emojis\n",
    "\n",
    "def countEmojis(data):\n",
    "    emoj = re.compile(\"[\"\n",
    "        u\"\\U0001F600-\\U0001F64F\"  # emoticons\n",
    "        u\"\\U0001F300-\\U0001F5FF\"  # symbols & pictographs\n",
    "        u\"\\U0001F680-\\U0001F6FF\"  # transport & map symbols\n",
    "        u\"\\U0001F1E0-\\U0001F1FF\"  # flags (iOS)\n",
    "        u\"\\U00002500-\\U00002BEF\"  # chinese char\n",
    "        u\"\\U00002702-\\U000027B0\"\n",
    "        u\"\\U00002702-\\U000027B0\"\n",
    "        u\"\\U000024C2-\\U0001F251\"\n",
    "        u\"\\U0001f926-\\U0001f937\"\n",
    "        u\"\\U00010000-\\U0010ffff\"\n",
    "        u\"\\u2640-\\u2642\" \n",
    "        u\"\\u2600-\\u2B55\"\n",
    "        u\"\\u200d\"\n",
    "        u\"\\u23cf\"\n",
    "        u\"\\u23e9\"\n",
    "        u\"\\u231a\"\n",
    "        u\"\\ufe0f\"  # dingbats\n",
    "        u\"\\u3030\"\n",
    "                      \"]+\", re.UNICODE)\n",
    "    \n",
    "    return len(re.findall(emoj, data))\n",
    "\n",
    "df['original_text'] = text\n",
    "df['num_emojis_in_original_text'] = df['original_text'].apply(countEmojis)"
   ]
  },
  {
   "cell_type": "code",
   "execution_count": 45,
   "id": "3fd2176c",
   "metadata": {},
   "outputs": [
    {
     "name": "stdout",
     "output_type": "stream",
     "text": [
      "AVERAGE number of emojis in comments by subreddit\n"
     ]
    },
    {
     "data": {
      "text/plain": [
       "<AxesSubplot:title={'center':'AVERAGE number of emojis in comments by subreddit'}, xlabel='subreddit'>"
      ]
     },
     "execution_count": 45,
     "metadata": {},
     "output_type": "execute_result"
    },
    {
     "data": {
      "image/png": "[encoded data removed]",
      "text/plain": [
       "<Figure size 432x288 with 1 Axes>"
      ]
     },
     "metadata": {
      "needs_background": "light"
     },
     "output_type": "display_data"
    }
   ],
   "source": [
    "print('AVERAGE number of emojis in comments by subreddit')\n",
    "df.groupby('subreddit')['num_emojis_in_original_text'].mean().plot(\n",
    "    kind='bar',\n",
    "    title='AVERAGE number of emojis in comments by subreddit'\n",
    ")"
   ]
  },
  {
   "cell_type": "code",
   "execution_count": 24,
   "id": "cc914633",
   "metadata": {},
   "outputs": [
    {
     "data": {
      "text/plain": [
       "False    58765\n",
       "True      1235\n",
       "Name: has_emojis, dtype: int64"
      ]
     },
     "execution_count": 24,
     "metadata": {},
     "output_type": "execute_result"
    }
   ],
   "source": [
    "df['has_emojis'] = df['num_emojis_in_original_text'].apply(lambda number: number != 0)\n",
    "df['has_emojis'].value_counts()"
   ]
  },
  {
   "cell_type": "code",
   "execution_count": 37,
   "id": "b160895a",
   "metadata": {},
   "outputs": [
    {
     "data": {
      "text/plain": [
       "subreddit\n",
       "aliens           0.033867\n",
       "entertainment    0.000533\n",
       "jokes            0.030133\n",
       "sports           0.017800\n",
       "Name: has_emojis, dtype: float64"
      ]
     },
     "execution_count": 37,
     "metadata": {},
     "output_type": "execute_result"
    }
   ],
   "source": [
    "df.groupby('subreddit')['has_emojis'].mean()"
   ]
  },
  {
   "cell_type": "markdown",
   "id": "fca99897",
   "metadata": {},
   "source": [
    "# Part 2"
   ]
  },
  {
   "cell_type": "markdown",
   "id": "20773af9",
   "metadata": {},
   "source": [
    "### Feature Generation"
   ]
  },
  {
   "cell_type": "code",
   "execution_count": 38,
   "id": "fafce062",
   "metadata": {},
   "outputs": [],
   "source": [
    "wordCount = defaultdict(int)\n",
    "for sentence in list(df['text']):\n",
    "    for word in sentence.split():\n",
    "        wordCount[word] += 1"
   ]
  },
  {
   "cell_type": "code",
   "execution_count": 39,
   "id": "7fcd4f05",
   "metadata": {},
   "outputs": [],
   "source": [
    "counts = [(wordCount[w], w) for w in wordCount]\n",
    "counts.sort()\n",
    "counts.reverse()"
   ]
  },
  {
   "cell_type": "code",
   "execution_count": 40,
   "id": "ed0da89b",
   "metadata": {},
   "outputs": [],
   "source": [
    "counts_no_stopwords = [tup for tup in counts if tup[1] not in all_stopwords_gensim]"
   ]
  },
  {
   "cell_type": "code",
   "execution_count": 41,
   "id": "2ba57c96",
   "metadata": {},
   "outputs": [],
   "source": [
    "NW = 2000\n",
    "words = [x[1] for x in counts[:NW]]\n",
    "\n",
    "wordId = dict(zip(words, range(len(words))))\n",
    "wordSet = set(words)"
   ]
  },
  {
   "cell_type": "code",
   "execution_count": 42,
   "id": "913afade",
   "metadata": {},
   "outputs": [],
   "source": [
    "words_no_stop = [x[1] for x in counts_no_stopwords[:NW]]\n",
    "wordId_no_stop = dict(zip(words_no_stop, range(len(words_no_stop))))\n",
    "wordSet_no_stop = set(words_no_stop)"
   ]
  },
  {
   "cell_type": "code",
   "execution_count": 43,
   "id": "78059a3c",
   "metadata": {},
   "outputs": [],
   "source": [
    "def generate_feat_vector(comment):\n",
    "    \n",
    "    all_features = []\n",
    "    \n",
    "    # Feature 0: Bag of Words (BoW)\n",
    "    vec_1 = [0]*len(words)\n",
    "\n",
    "    for word in comment.split():\n",
    "        if word in wordSet:\n",
    "            vec_1[wordId[word]] += 1\n",
    "\n",
    "    all_features.append(vec_1)\n",
    "    \n",
    "    # Feature 1: Bag of Words (EXCLUDING stopwords)\n",
    "    vec_2 = [0]*len(words_no_stop)\n",
    "\n",
    "    for word in comment.split():\n",
    "        if word in wordSet_no_stop:\n",
    "            vec_2[wordId_no_stop[word]] += 1\n",
    "    \n",
    "    all_features.append(vec_2)\n",
    "    \n",
    "    # Feature 2: Number of words\n",
    "    num_words = len(comment.split())\n",
    "    all_features.append([num_words])\n",
    "    \n",
    "    # Feature 3: Number of stopwords\n",
    "    num_stopwords = count_num_stopwords(comment)\n",
    "    all_features.append([num_stopwords])\n",
    "    \n",
    "    # Feature 4: Ratio of stopwords:total_num_words\n",
    "    ratio = 0\n",
    "    if num_words != 0:\n",
    "        ratio = num_stopwords/num_words\n",
    "    \n",
    "    all_features.append([ratio])\n",
    "    \n",
    "    # Feature 5: Number of unique words\n",
    "    num_unique_words = len(set(comment.split()))\n",
    "    all_features.append([num_unique_words])\n",
    "\n",
    "    indicies_to_features = {\n",
    "        '0': 'BoW (normal)',\n",
    "        '1': 'BoW (excluding stopwords)',\n",
    "        '2': 'Number of words',\n",
    "        '3': 'Number of stopwords',\n",
    "        '4': 'Ratio of stopwords to total_num_words',\n",
    "        '5': 'Number of unique words'\n",
    "    }\n",
    "    \n",
    "    desired_features = [1,4] # customize this list by referencing the dictionary above to decide which features to include\n",
    "    \n",
    "    feat = []\n",
    "    for feat_index in desired_features:\n",
    "        #return all_features[feat_index]\n",
    "        feat.extend(all_features[feat_index])\n",
    "\n",
    "    #feat.append(1)\n",
    "    \n",
    "    return feat"
   ]
  },
  {
   "cell_type": "code",
   "execution_count": 44,
   "id": "b684ef97",
   "metadata": {
    "scrolled": true
   },
   "outputs": [],
   "source": [
    "df_shuffled = df.sample(frac=1)\n",
    "X = list(df_shuffled['text'].apply(generate_feat_vector))\n",
    "y = list(df_shuffled['subreddit'])\n",
    "\n",
    "# create train-validation split\n",
    "train_size = 8\n",
    "Xtrain = X[:train_size*len(X)//10]\n",
    "ytrain = y[:train_size*len(y)//10]\n",
    "Xvalid = X[train_size*len(X)//10:]\n",
    "yvalid = y[train_size*len(y)//10:]"
   ]
  },
  {
   "cell_type": "code",
   "execution_count": null,
   "id": "faddd122",
   "metadata": {},
   "outputs": [],
   "source": [
    "c = 1\n",
    "mod = LogisticRegression(C=c,max_iter=1000)\n",
    "mod.fit(Xtrain, ytrain)\n",
    "pred_train = mod.predict(Xtrain)\n",
    "correct_train = pred_train == ytrain\n",
    "print(f'Training accuracy: {sum(correct_train) / len(correct_train)}')\n",
    "\n",
    "pred = mod.predict(Xvalid)\n",
    "correct = pred == yvalid\n",
    "print(f'Validation accuracy: {sum(correct) / len(correct)}')"
   ]
  },
  {
   "cell_type": "markdown",
   "id": "79a0e9cd",
   "metadata": {},
   "source": [
    "### Model Selection, Tuning, and Evaluation"
   ]
  },
  {
   "cell_type": "code",
   "execution_count": 689,
   "id": "aec2f6c6",
   "metadata": {},
   "outputs": [],
   "source": [
    "# \"model_name: hyperparameters\" dictionary\n",
    "\n",
    "clf_hyperparameters = {\n",
    "    \"Linear SVM\": {\n",
    "        'C': [0.05, 0.5, 1]\n",
    "    },\n",
    "    \"RBF SVM\":  {\n",
    "        'C': [0.1, 0.5, 1]\n",
    "    },\n",
    "    \"Logistic Regression\":  {\n",
    "        'C':[10**-2, 10**-1, 1, 10]\n",
    "    },\n",
    "    \"Naive Bayes\":  {\n",
    "        'var_smoothing': list(np.logspace(0,-4, num=10))\n",
    "    }\n",
    "}"
   ]
  },
  {
   "cell_type": "code",
   "execution_count": 691,
   "id": "258f7318",
   "metadata": {},
   "outputs": [
    {
     "name": "stdout",
     "output_type": "stream",
     "text": [
      "Currently tuning: Logistic Regression\n",
      "parameter tuning complete\n",
      "tuning time: 281.4314830303192 seconds\n",
      "\n",
      "\n",
      "Currently tuning: RBF SVM\n"
     ]
    },
    {
     "ename": "KeyboardInterrupt",
     "evalue": "",
     "output_type": "error",
     "traceback": [
      "\u001b[0;31m---------------------------------------------------------------------------\u001b[0m",
      "\u001b[0;31mKeyboardInterrupt\u001b[0m                         Traceback (most recent call last)",
      "\u001b[0;32m/var/folders/qb/strq60h92kgg7sp_1191lw2h0000gn/T/ipykernel_16513/1023987463.py\u001b[0m in \u001b[0;36m<cell line: 76>\u001b[0;34m()\u001b[0m\n\u001b[1;32m     79\u001b[0m \u001b[0;34m\u001b[0m\u001b[0m\n\u001b[1;32m     80\u001b[0m     \u001b[0mmodel\u001b[0m\u001b[0;34m.\u001b[0m\u001b[0mfit\u001b[0m\u001b[0;34m(\u001b[0m\u001b[0mXtrain\u001b[0m\u001b[0;34m,\u001b[0m \u001b[0mytrain\u001b[0m\u001b[0;34m)\u001b[0m\u001b[0;34m\u001b[0m\u001b[0;34m\u001b[0m\u001b[0m\n\u001b[0;32m---> 81\u001b[0;31m     \u001b[0mtrain_preds\u001b[0m \u001b[0;34m=\u001b[0m \u001b[0mmodel\u001b[0m\u001b[0;34m.\u001b[0m\u001b[0mpredict\u001b[0m\u001b[0;34m(\u001b[0m\u001b[0mXtrain\u001b[0m\u001b[0;34m)\u001b[0m\u001b[0;34m\u001b[0m\u001b[0;34m\u001b[0m\u001b[0m\n\u001b[0m\u001b[1;32m     82\u001b[0m     \u001b[0mcorrect\u001b[0m \u001b[0;34m=\u001b[0m \u001b[0mtrain_preds\u001b[0m \u001b[0;34m==\u001b[0m \u001b[0mytrain\u001b[0m\u001b[0;34m\u001b[0m\u001b[0;34m\u001b[0m\u001b[0m\n\u001b[1;32m     83\u001b[0m     \u001b[0mtrain_acc\u001b[0m \u001b[0;34m=\u001b[0m \u001b[0msum\u001b[0m\u001b[0;34m(\u001b[0m\u001b[0mcorrect\u001b[0m\u001b[0;34m)\u001b[0m \u001b[0;34m/\u001b[0m \u001b[0mlen\u001b[0m\u001b[0;34m(\u001b[0m\u001b[0mcorrect\u001b[0m\u001b[0;34m)\u001b[0m\u001b[0;34m\u001b[0m\u001b[0;34m\u001b[0m\u001b[0m\n",
      "\u001b[0;32m~/opt/anaconda3/lib/python3.9/site-packages/sklearn/svm/_base.py\u001b[0m in \u001b[0;36mpredict\u001b[0;34m(self, X)\u001b[0m\n\u001b[1;32m    808\u001b[0m             \u001b[0my\u001b[0m \u001b[0;34m=\u001b[0m \u001b[0mnp\u001b[0m\u001b[0;34m.\u001b[0m\u001b[0margmax\u001b[0m\u001b[0;34m(\u001b[0m\u001b[0mself\u001b[0m\u001b[0;34m.\u001b[0m\u001b[0mdecision_function\u001b[0m\u001b[0;34m(\u001b[0m\u001b[0mX\u001b[0m\u001b[0;34m)\u001b[0m\u001b[0;34m,\u001b[0m \u001b[0maxis\u001b[0m\u001b[0;34m=\u001b[0m\u001b[0;36m1\u001b[0m\u001b[0;34m)\u001b[0m\u001b[0;34m\u001b[0m\u001b[0;34m\u001b[0m\u001b[0m\n\u001b[1;32m    809\u001b[0m         \u001b[0;32melse\u001b[0m\u001b[0;34m:\u001b[0m\u001b[0;34m\u001b[0m\u001b[0;34m\u001b[0m\u001b[0m\n\u001b[0;32m--> 810\u001b[0;31m             \u001b[0my\u001b[0m \u001b[0;34m=\u001b[0m \u001b[0msuper\u001b[0m\u001b[0;34m(\u001b[0m\u001b[0;34m)\u001b[0m\u001b[0;34m.\u001b[0m\u001b[0mpredict\u001b[0m\u001b[0;34m(\u001b[0m\u001b[0mX\u001b[0m\u001b[0;34m)\u001b[0m\u001b[0;34m\u001b[0m\u001b[0;34m\u001b[0m\u001b[0m\n\u001b[0m\u001b[1;32m    811\u001b[0m         \u001b[0;32mreturn\u001b[0m \u001b[0mself\u001b[0m\u001b[0;34m.\u001b[0m\u001b[0mclasses_\u001b[0m\u001b[0;34m.\u001b[0m\u001b[0mtake\u001b[0m\u001b[0;34m(\u001b[0m\u001b[0mnp\u001b[0m\u001b[0;34m.\u001b[0m\u001b[0masarray\u001b[0m\u001b[0;34m(\u001b[0m\u001b[0my\u001b[0m\u001b[0;34m,\u001b[0m \u001b[0mdtype\u001b[0m\u001b[0;34m=\u001b[0m\u001b[0mnp\u001b[0m\u001b[0;34m.\u001b[0m\u001b[0mintp\u001b[0m\u001b[0;34m)\u001b[0m\u001b[0;34m)\u001b[0m\u001b[0;34m\u001b[0m\u001b[0;34m\u001b[0m\u001b[0m\n\u001b[1;32m    812\u001b[0m \u001b[0;34m\u001b[0m\u001b[0m\n",
      "\u001b[0;32m~/opt/anaconda3/lib/python3.9/site-packages/sklearn/svm/_base.py\u001b[0m in \u001b[0;36mpredict\u001b[0;34m(self, X)\u001b[0m\n\u001b[1;32m    433\u001b[0m         \u001b[0mX\u001b[0m \u001b[0;34m=\u001b[0m \u001b[0mself\u001b[0m\u001b[0;34m.\u001b[0m\u001b[0m_validate_for_predict\u001b[0m\u001b[0;34m(\u001b[0m\u001b[0mX\u001b[0m\u001b[0;34m)\u001b[0m\u001b[0;34m\u001b[0m\u001b[0;34m\u001b[0m\u001b[0m\n\u001b[1;32m    434\u001b[0m         \u001b[0mpredict\u001b[0m \u001b[0;34m=\u001b[0m \u001b[0mself\u001b[0m\u001b[0;34m.\u001b[0m\u001b[0m_sparse_predict\u001b[0m \u001b[0;32mif\u001b[0m \u001b[0mself\u001b[0m\u001b[0;34m.\u001b[0m\u001b[0m_sparse\u001b[0m \u001b[0;32melse\u001b[0m \u001b[0mself\u001b[0m\u001b[0;34m.\u001b[0m\u001b[0m_dense_predict\u001b[0m\u001b[0;34m\u001b[0m\u001b[0;34m\u001b[0m\u001b[0m\n\u001b[0;32m--> 435\u001b[0;31m         \u001b[0;32mreturn\u001b[0m \u001b[0mpredict\u001b[0m\u001b[0;34m(\u001b[0m\u001b[0mX\u001b[0m\u001b[0;34m)\u001b[0m\u001b[0;34m\u001b[0m\u001b[0;34m\u001b[0m\u001b[0m\n\u001b[0m\u001b[1;32m    436\u001b[0m \u001b[0;34m\u001b[0m\u001b[0m\n\u001b[1;32m    437\u001b[0m     \u001b[0;32mdef\u001b[0m \u001b[0m_dense_predict\u001b[0m\u001b[0;34m(\u001b[0m\u001b[0mself\u001b[0m\u001b[0;34m,\u001b[0m \u001b[0mX\u001b[0m\u001b[0;34m)\u001b[0m\u001b[0;34m:\u001b[0m\u001b[0;34m\u001b[0m\u001b[0;34m\u001b[0m\u001b[0m\n",
      "\u001b[0;32m~/opt/anaconda3/lib/python3.9/site-packages/sklearn/svm/_base.py\u001b[0m in \u001b[0;36m_dense_predict\u001b[0;34m(self, X)\u001b[0m\n\u001b[1;32m    452\u001b[0m         \u001b[0msvm_type\u001b[0m \u001b[0;34m=\u001b[0m \u001b[0mLIBSVM_IMPL\u001b[0m\u001b[0;34m.\u001b[0m\u001b[0mindex\u001b[0m\u001b[0;34m(\u001b[0m\u001b[0mself\u001b[0m\u001b[0;34m.\u001b[0m\u001b[0m_impl\u001b[0m\u001b[0;34m)\u001b[0m\u001b[0;34m\u001b[0m\u001b[0;34m\u001b[0m\u001b[0m\n\u001b[1;32m    453\u001b[0m \u001b[0;34m\u001b[0m\u001b[0m\n\u001b[0;32m--> 454\u001b[0;31m         return libsvm.predict(\n\u001b[0m\u001b[1;32m    455\u001b[0m             \u001b[0mX\u001b[0m\u001b[0;34m,\u001b[0m\u001b[0;34m\u001b[0m\u001b[0;34m\u001b[0m\u001b[0m\n\u001b[1;32m    456\u001b[0m             \u001b[0mself\u001b[0m\u001b[0;34m.\u001b[0m\u001b[0msupport_\u001b[0m\u001b[0;34m,\u001b[0m\u001b[0;34m\u001b[0m\u001b[0;34m\u001b[0m\u001b[0m\n",
      "\u001b[0;31mKeyboardInterrupt\u001b[0m: "
     ]
    }
   ],
   "source": [
    "model_names = []\n",
    "params = []\n",
    "train_accuracies = []\n",
    "valid_accuracies = []\n",
    "\n",
    "# ****** Logistic Regression ******\n",
    "\n",
    "name = 'Logistic Regression'\n",
    "start = time.time()\n",
    "\n",
    "print(f'Currently tuning: {name}')\n",
    "\n",
    "for c in clf_hyperparameters[name]['C']:\n",
    "    model = LogisticRegression(C=c, max_iter=1000)\n",
    "    params.append(f'C={c}')\n",
    "\n",
    "    model.fit(Xtrain, ytrain)\n",
    "    \n",
    "    # compute training acc\n",
    "    train_preds = model.predict(Xtrain)\n",
    "    correct = train_preds == ytrain\n",
    "    train_acc = sum(correct) / len(correct)\n",
    "    train_accuracies.append(train_acc)\n",
    "\n",
    "    # compute valid acc\n",
    "    model.fit(Xvalid, yvalid)\n",
    "    valid_preds = model.predict(Xvalid)\n",
    "    correct = valid_preds == yvalid\n",
    "    valid_acc = sum(correct) / len(correct)\n",
    "    valid_accuracies.append(valid_acc)\n",
    "    \n",
    "    model_names.append(name)\n",
    "    \n",
    "end = time.time()\n",
    "print('parameter tuning complete')\n",
    "print(f'tuning time: {end-start} seconds')\n",
    "print('\\n')\n",
    "    \n",
    "\n",
    "# ****** Linear SVM ******\n",
    "\"\"\"\n",
    "name = 'Linear SVM'\n",
    "start = time.time()\n",
    "print(f'Currently tuning: {name}')\n",
    "\n",
    "for c in clf_hyperparameters[name]['C']:\n",
    "    model = SVC(kernel=\"linear\", C=c)\n",
    "    params.append(f'C={c}')\n",
    "\n",
    "    model.fit(Xtrain, ytrain)\n",
    "    train_preds = model.predict(Xtrain)\n",
    "    correct = train_preds == ytrain\n",
    "    train_acc = sum(correct) / len(correct)\n",
    "    train_accuracies.append(train_acc)\n",
    "\n",
    "    model.fit(Xvalid, yvalid)\n",
    "    valid_preds = model.predict(Xvalid)\n",
    "    correct = valid_preds == yvalid\n",
    "    valid_acc = sum(correct) / len(correct)\n",
    "    valid_accuracies.append(valid_acc)\n",
    "    \n",
    "    model_names.append(name)\n",
    "    \n",
    "end = time.time()\n",
    "print('parameter tuning complete')\n",
    "print(f'tuning time: {end-start} seconds')\n",
    "print('\\n')\"\"\"\n",
    "\n",
    "\n",
    "# ****** RBF SVM ******\n",
    "\n",
    "name = 'RBF SVM'\n",
    "start = time.time()\n",
    "print(f'Currently tuning: {name}')\n",
    "\n",
    "for c in clf_hyperparameters[name]['C']:\n",
    "    model = SVC(C=c)\n",
    "    params.append(f'C={c}')\n",
    "\n",
    "    model.fit(Xtrain, ytrain)\n",
    "    train_preds = model.predict(Xtrain)\n",
    "    correct = train_preds == ytrain\n",
    "    train_acc = sum(correct) / len(correct)\n",
    "    train_accuracies.append(train_acc)\n",
    "\n",
    "    model.fit(Xvalid, yvalid)\n",
    "    valid_preds = model.predict(Xvalid)\n",
    "    correct = valid_preds == yvalid\n",
    "    valid_acc = sum(correct) / len(correct)\n",
    "    valid_accuracies.append(valid_acc)\n",
    "    \n",
    "    model_names.append(name)\n",
    "    \n",
    "end = time.time()\n",
    "print('parameter tuning complete')\n",
    "print(f'tuning time: {end-start} seconds')\n",
    "print('\\n')\n",
    "\n",
    "# ****** Naive Bayes ******\n",
    "\n",
    "name = 'Naive Bayes'\n",
    "start = time.time()\n",
    "print(f'Currently tuning: {name}')\n",
    "\n",
    "for var in clf_hyperparameters[name]['var_smoothing']:\n",
    "    model = Navie(var_smoothing = var)\n",
    "    params.append(f'var_smoothing={var}')\n",
    "\n",
    "    model.fit(Xtrain, ytrain)\n",
    "    train_preds = model.predict(Xtrain)\n",
    "    correct = train_preds == ytrain\n",
    "    train_acc = sum(correct) / len(correct)\n",
    "    train_accuracies.append(train_acc)\n",
    "\n",
    "    model.fit(Xvalid, yvalid)\n",
    "    valid_preds = model.predict(Xvalid)\n",
    "    correct = valid_preds == yvalid\n",
    "    valid_acc = sum(correct) / len(correct)\n",
    "    valid_accuracies.append(valid_acc)\n",
    "    \n",
    "    model_names.append(name)\n",
    "    \n",
    "end = time.time()\n",
    "print('parameter tuning complete')\n",
    "print(f'tuning time: {end-start} seconds')\n",
    "print('\\n')"
   ]
  },
  {
   "cell_type": "code",
   "execution_count": null,
   "id": "e4d6ee93",
   "metadata": {},
   "outputs": [],
   "source": [
    "evaluation_df = pd.DataFrame()\n",
    "evaluation_df['Model Name'] = model_names\n",
    "evaluation_df['Parameters'] = params\n",
    "evaluation_df['Training Accuracy'] = train_accuracies\n",
    "evaluation_df['Validation Accuracy'] = valid_accuracies\n",
    "evaluation_df"
   ]
  },
  {
   "cell_type": "code",
   "execution_count": null,
   "id": "aefafb76",
   "metadata": {},
   "outputs": [],
   "source": [
    "evaluation_df.sort_values(by='Validation Accuracy', ascending=False)"
   ]
  },
  {
   "cell_type": "code",
   "execution_count": null,
   "id": "ba9a7c68",
   "metadata": {},
   "outputs": [],
   "source": []
  }
 ],
 "metadata": {
  "kernelspec": {
   "display_name": "Python 3 (ipykernel)",
   "language": "python",
   "name": "python3"
  },
  "language_info": {
   "codemirror_mode": {
    "name": "ipython",
    "version": 3
   },
   "file_extension": ".py",
   "mimetype": "text/x-python",
   "name": "python",
   "nbconvert_exporter": "python",
   "pygments_lexer": "ipython3",
   "version": "3.9.5"
  }
 },
 "nbformat": 4,
 "nbformat_minor": 5
}
